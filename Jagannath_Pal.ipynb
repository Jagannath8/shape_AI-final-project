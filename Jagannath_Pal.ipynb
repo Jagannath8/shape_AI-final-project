{
  "nbformat": 4,
  "nbformat_minor": 0,
  "metadata": {
    "colab": {
      "name": "Jagannath_Pal.ipynb",
      "provenance": [],
      "collapsed_sections": []
    },
    "kernelspec": {
      "name": "python3",
      "display_name": "Python 3",
      "language": "python"
    }
  },
  "cells": [
    {
      "cell_type": "markdown",
      "metadata": {
        "id": "DY3mqLrHPQAV"
      },
      "source": [
        "# **Importing libraries:**"
      ]
    },
    {
      "cell_type": "markdown",
      "metadata": {
        "id": "Ff3KcTRf807z"
      },
      "source": [
        "Here I have imported some libraries"
      ]
    },
    {
      "cell_type": "code",
      "metadata": {
        "id": "5rCYOHwm9KBH"
      },
      "source": [
        "import pandas as pd\r\n",
        "import numpy as np"
      ],
      "execution_count": 1,
      "outputs": []
    },
    {
      "cell_type": "markdown",
      "metadata": {
        "id": "-zvGJYMtPZQo"
      },
      "source": [
        "# **Exploring the data:**"
      ]
    },
    {
      "cell_type": "markdown",
      "metadata": {
        "id": "jLLPErz0865U"
      },
      "source": [
        "The data we have used is Iris dataset. \r\n",
        "It is included in scikit-learn in the datasets module. We can load it by calling the load_iris function."
      ]
    },
    {
      "cell_type": "code",
      "metadata": {
        "id": "R0fEgATD-Ati"
      },
      "source": [
        "from sklearn.datasets import load_iris\r\n",
        "iris_dataset = load_iris()"
      ],
      "execution_count": 2,
      "outputs": []
    },
    {
      "cell_type": "code",
      "metadata": {
        "colab": {
          "base_uri": "https://localhost:8080/"
        },
        "id": "5tBbD867-oFN",
        "outputId": "9f1c47e0-3718-4f59-a3f7-770131f8e468"
      },
      "source": [
        "print(\"Keys of iris_dataset: \\n{}\".format(iris_dataset.keys()))"
      ],
      "execution_count": 3,
      "outputs": [
        {
          "output_type": "stream",
          "name": "stdout",
          "text": [
            "Keys of iris_dataset: \ndict_keys(['data', 'target', 'target_names', 'DESCR', 'feature_names', 'filename'])\n"
          ]
        }
      ]
    },
    {
      "cell_type": "markdown",
      "metadata": {
        "id": "kG9DJbo5APNR"
      },
      "source": [
        "Value of key DESCR is a short description of the dataset:"
      ]
    },
    {
      "cell_type": "code",
      "metadata": {
        "colab": {
          "base_uri": "https://localhost:8080/"
        },
        "id": "UJQL-nMa_9Rp",
        "outputId": "15bd7d80-7fe8-4224-df5e-a4d302efbff8"
      },
      "source": [
        "val = iris_dataset[\"DESCR\"]\r\n",
        "start_val = val[:200]\r\n",
        "print(start_val + \"\\n...\")"
      ],
      "execution_count": 4,
      "outputs": [
        {
          "output_type": "stream",
          "name": "stdout",
          "text": [
            ".. _iris_dataset:\n\nIris plants dataset\n--------------------\n\n**Data Set Characteristics:**\n\n    :Number of Instances: 150 (50 in each of three classes)\n    :Number of Attributes: 4 numeric, predictive\n...\n"
          ]
        }
      ]
    },
    {
      "cell_type": "markdown",
      "metadata": {
        "id": "T7FDSt96A4v6"
      },
      "source": [
        "Value of key target_names is an array of strings containing the species of flower that we want to predict:"
      ]
    },
    {
      "cell_type": "code",
      "metadata": {
        "colab": {
          "base_uri": "https://localhost:8080/"
        },
        "id": "Q_dm5v7VBPN0",
        "outputId": "74b8856b-153f-45b6-e19e-ced29a3ac57f"
      },
      "source": [
        "print(\"Target names: {}\".format(iris_dataset[\"target_names\"]))"
      ],
      "execution_count": 5,
      "outputs": [
        {
          "output_type": "stream",
          "name": "stdout",
          "text": [
            "Target names: ['setosa' 'versicolor' 'virginica']\n"
          ]
        }
      ]
    },
    {
      "cell_type": "markdown",
      "metadata": {
        "id": "OEJ6LpxOC_jB"
      },
      "source": [
        "Value of feature_names giving the description of each feature it includes \"sepal length\", \"petal widfth\", \"petal lenth\" and \"petal width\" (all in cms):"
      ]
    },
    {
      "cell_type": "code",
      "metadata": {
        "colab": {
          "base_uri": "https://localhost:8080/"
        },
        "id": "v3qU62VbDuHl",
        "outputId": "d12af746-198f-4c48-82b6-f8d4e831675d"
      },
      "source": [
        "print(\"Keys of Features names: \\n{}\".format(iris_dataset[\"feature_names\"]))"
      ],
      "execution_count": 6,
      "outputs": [
        {
          "output_type": "stream",
          "name": "stdout",
          "text": [
            "Keys of Features names: \n['sepal length (cm)', 'sepal width (cm)', 'petal length (cm)', 'petal width (cm)']\n"
          ]
        }
      ]
    },
    {
      "cell_type": "markdown",
      "metadata": {
        "id": "FaYIdzvRFsbU"
      },
      "source": [
        "Value of target_names giving the description of each target:"
      ]
    },
    {
      "cell_type": "code",
      "metadata": {
        "colab": {
          "base_uri": "https://localhost:8080/"
        },
        "id": "_u7aix_aFDTL",
        "outputId": "71304e60-405d-4ede-d182-d5dfbc0b9d92"
      },
      "source": [
        "print(\"Keys of Target names: \\n{}\".format(iris_dataset[\"target_names\"]))"
      ],
      "execution_count": 7,
      "outputs": [
        {
          "output_type": "stream",
          "name": "stdout",
          "text": [
            "Keys of Target names: \n['setosa' 'versicolor' 'virginica']\n"
          ]
        }
      ]
    },
    {
      "cell_type": "markdown",
      "metadata": {
        "id": "pjFC4YOzQTun"
      },
      "source": [
        "Type of data given in the description:"
      ]
    },
    {
      "cell_type": "code",
      "metadata": {
        "colab": {
          "base_uri": "https://localhost:8080/"
        },
        "id": "fqg4eP8NF134",
        "outputId": "5b69fa01-dce2-4391-f9dc-84e513e0aec2"
      },
      "source": [
        "print(\"Type of data: \\n{}\".format(type(iris_dataset[\"data\"])))"
      ],
      "execution_count": 8,
      "outputs": [
        {
          "output_type": "stream",
          "name": "stdout",
          "text": [
            "Type of data: \n<class 'numpy.ndarray'>\n"
          ]
        }
      ]
    },
    {
      "cell_type": "markdown",
      "metadata": {
        "id": "b-wtTTMPQdbx"
      },
      "source": [
        "Shape of the data given:"
      ]
    },
    {
      "cell_type": "code",
      "metadata": {
        "colab": {
          "base_uri": "https://localhost:8080/"
        },
        "id": "xSl1bWKGGNeF",
        "outputId": "3178729e-5a28-4775-a4eb-969521f7e5f6"
      },
      "source": [
        "print(\"Shape of data: \\n{}\".format(iris_dataset[\"data\"].shape))"
      ],
      "execution_count": 9,
      "outputs": [
        {
          "output_type": "stream",
          "name": "stdout",
          "text": [
            "Shape of data: \n(150, 4)\n"
          ]
        }
      ]
    },
    {
      "cell_type": "code",
      "metadata": {
        "colab": {
          "base_uri": "https://localhost:8080/"
        },
        "id": "6Fgbi9zjGwvJ",
        "outputId": "c87c3910-77f1-4cdb-8e88-6775f126686d"
      },
      "source": [
        "print(\"First five columns of data: \\n{}\".format(iris_dataset[\"data\"][:5]))"
      ],
      "execution_count": 10,
      "outputs": [
        {
          "output_type": "stream",
          "name": "stdout",
          "text": [
            "First five columns of data: \n[[5.1 3.5 1.4 0.2]\n [4.9 3.  1.4 0.2]\n [4.7 3.2 1.3 0.2]\n [4.6 3.1 1.5 0.2]\n [5.  3.6 1.4 0.2]]\n"
          ]
        }
      ]
    },
    {
      "cell_type": "markdown",
      "metadata": {
        "id": "R67EUaytQ6bn"
      },
      "source": [
        "Type of target give in description:"
      ]
    },
    {
      "cell_type": "code",
      "metadata": {
        "colab": {
          "base_uri": "https://localhost:8080/"
        },
        "id": "izQKimY705o4",
        "outputId": "fbc4be1b-0fa8-4afe-bc2d-3259861372be"
      },
      "source": [
        "print(\"Type of target: \\n{}\".format(type(iris_dataset[\"target\"])))"
      ],
      "execution_count": 11,
      "outputs": [
        {
          "output_type": "stream",
          "name": "stdout",
          "text": [
            "Type of target: \n<class 'numpy.ndarray'>\n"
          ]
        }
      ]
    },
    {
      "cell_type": "markdown",
      "metadata": {
        "id": "Pw-_aV-BRFIV"
      },
      "source": [
        "Shape of the target:"
      ]
    },
    {
      "cell_type": "code",
      "metadata": {
        "colab": {
          "base_uri": "https://localhost:8080/"
        },
        "id": "RvsR-qOk1dZu",
        "outputId": "73776280-bde9-4d03-9cff-a1dd9a419b3a"
      },
      "source": [
        "print(\"Shape of target: \\n{}\".format(iris_dataset[\"target\"].shape))"
      ],
      "execution_count": 12,
      "outputs": [
        {
          "output_type": "stream",
          "name": "stdout",
          "text": [
            "Shape of target: \n",
            "(150,)\n"
          ]
        }
      ]
    },
    {
      "cell_type": "code",
      "metadata": {
        "colab": {
          "base_uri": "https://localhost:8080/"
        },
        "id": "Snh9r8vm1ofs",
        "outputId": "81c16c9c-808b-4eba-f5c1-660bdfd18360"
      },
      "source": [
        "print(\"Target: \\n{}\".format(iris_dataset[\"target\"]))"
      ],
      "execution_count": 13,
      "outputs": [
        {
          "output_type": "stream",
          "name": "stdout",
          "text": [
            "Target: \n[0 0 0 0 0 0 0 0 0 0 0 0 0 0 0 0 0 0 0 0 0 0 0 0 0 0 0 0 0 0 0 0 0 0 0 0 0\n 0 0 0 0 0 0 0 0 0 0 0 0 0 1 1 1 1 1 1 1 1 1 1 1 1 1 1 1 1 1 1 1 1 1 1 1 1\n 1 1 1 1 1 1 1 1 1 1 1 1 1 1 1 1 1 1 1 1 1 1 1 1 1 1 2 2 2 2 2 2 2 2 2 2 2\n 2 2 2 2 2 2 2 2 2 2 2 2 2 2 2 2 2 2 2 2 2 2 2 2 2 2 2 2 2 2 2 2 2 2 2 2 2\n 2 2]\n"
          ]
        }
      ]
    },
    {
      "cell_type": "markdown",
      "metadata": {
        "id": "xgcFfzeB14tF"
      },
      "source": [
        "The meaning of the numbers are given by the iris [\"target_names\"] array: 0 means setosa, 1 means versicolor and 2 means virginica."
      ]
    },
    {
      "cell_type": "markdown",
      "metadata": {
        "id": "FyYziF_lRrNy"
      },
      "source": [
        "# **Measuring Success: Training and Testing Data:**"
      ]
    },
    {
      "cell_type": "markdown",
      "metadata": {
        "id": "Z7szCRDn7jh-"
      },
      "source": [
        "Now, we import machine learning framework(sklearn). \r\n",
        "In scikit-learn, data is usually denoted with capital 'X', while labels are denoted as lowercase 'y'. (X is the input to a function and y is the output)."
      ]
    },
    {
      "cell_type": "code",
      "metadata": {
        "id": "1H5IFQgj4E-N"
      },
      "source": [
        "from sklearn.model_selection import train_test_split\r\n",
        "X_train, X_test, y_train, y_test = train_test_split(iris_dataset['data'], iris_dataset['target'],random_state=0)"
      ],
      "execution_count": 14,
      "outputs": []
    },
    {
      "cell_type": "markdown",
      "metadata": {
        "id": "6OlGClaA6FHb"
      },
      "source": [
        "The output of the train_test_split function is X_train, X_test, y_train, y_test which are all NumPy arrays.\r\n",
        "X_train contains 75% of the rows of the datset and X_test contains the remaining 25%"
      ]
    },
    {
      "cell_type": "code",
      "metadata": {
        "colab": {
          "base_uri": "https://localhost:8080/"
        },
        "id": "dE-eTz0D6aQ8",
        "outputId": "4c2a9677-bc9b-4cee-e314-10eca5942aa5"
      },
      "source": [
        "print(\"X_train shape: {}\".format(X_train.shape))\r\n",
        "print(\"y_train shape: {}\".format(y_train.shape))\r\n",
        "print(\"X_test shape: {}\".format(X_test.shape))\r\n",
        "print(\"y_test shape: {}\".format(y_test.shape))"
      ],
      "execution_count": 15,
      "outputs": [
        {
          "output_type": "stream",
          "name": "stdout",
          "text": [
            "X_train shape: (112, 4)\ny_train shape: (112,)\nX_test shape: (38, 4)\ny_test shape: (38,)\n"
          ]
        }
      ]
    },
    {
      "cell_type": "markdown",
      "metadata": {
        "id": "UmnSVUss9OA-"
      },
      "source": [
        "# **Inspecting the data:** "
      ]
    },
    {
      "cell_type": "markdown",
      "metadata": {
        "id": "JJB8h7NDDxso"
      },
      "source": [
        "Now we will build the actual machine learning model.\r\n",
        "Here we will use k-nearest neighbor classifier."
      ]
    },
    {
      "cell_type": "code",
      "metadata": {
        "id": "iuSm3sBeEVQw"
      },
      "source": [
        "from sklearn.neighbors import KNeighborsClassifier\n",
        "knn = KNeighborsClassifier(n_neighbors=1)"
      ],
      "execution_count": 16,
      "outputs": []
    },
    {
      "cell_type": "markdown",
      "metadata": {
        "id": "6F3wxWx3FL01"
      },
      "source": [
        "To build the model on the training set, we call the fit method of the knn object, which takes arguements the NumPy array X_train containing the training data and the NumPy array y_train of the corresponding training labels."
      ]
    },
    {
      "cell_type": "code",
      "metadata": {
        "colab": {
          "base_uri": "https://localhost:8080/"
        },
        "id": "qDkFPLGwFpRe",
        "outputId": "dc10b27d-c36f-44f2-8731-404d6b954867"
      },
      "source": [
        "knn.fit(X_train, y_train)"
      ],
      "execution_count": 17,
      "outputs": [
        {
          "output_type": "execute_result",
          "data": {
            "text/plain": [
              "KNeighborsClassifier(algorithm='auto', leaf_size=30, metric='minkowski',\n",
              "                     metric_params=None, n_jobs=None, n_neighbors=5, p=2,\n",
              "                     weights='uniform')"
            ]
          },
          "metadata": {},
          "execution_count": 17
        }
      ]
    },
    {
      "cell_type": "markdown",
      "metadata": {
        "id": "3js9PGSUGETX"
      },
      "source": [
        "# **Making Predictions:**"
      ]
    },
    {
      "cell_type": "markdown",
      "metadata": {
        "id": "EHdesCEFGWWj"
      },
      "source": [
        "Now we can make predictions using this model on new data"
      ]
    },
    {
      "cell_type": "code",
      "metadata": {
        "colab": {
          "base_uri": "https://localhost:8080/"
        },
        "id": "UzUP3L_sGqs-",
        "outputId": "a2b94023-e65c-4b25-f0a6-2c86345bd377"
      },
      "source": [
        "X_new = np.array([[5, 2.9, 1, 0.2]])\r\n",
        "print(\"X_new.shape: {}\".format(X_new.shape))"
      ],
      "execution_count": 18,
      "outputs": [
        {
          "output_type": "stream",
          "name": "stdout",
          "text": [
            "X_new.shape: (1, 4)\n"
          ]
        }
      ]
    },
    {
      "cell_type": "markdown",
      "metadata": {
        "id": "b6EUKmXJIa_L"
      },
      "source": [
        "To make prediction, we call the predict method of the knn object:"
      ]
    },
    {
      "cell_type": "code",
      "metadata": {
        "colab": {
          "base_uri": "https://localhost:8080/"
        },
        "id": "l2opfKNQIn4N",
        "outputId": "631a69cf-6ba2-4596-90b2-76297d2b59a7"
      },
      "source": [
        "prediction = knn.predict(X_new)\r\n",
        "print(\"Prediction: {}\".format(prediction))\r\n",
        "print(\"Predicted target name: {}\".format(iris_dataset[\"target_names\"][prediction]))"
      ],
      "execution_count": 19,
      "outputs": [
        {
          "output_type": "stream",
          "name": "stdout",
          "text": [
            "Prediction: [0]\nPredicted target name: ['setosa']\n"
          ]
        }
      ]
    },
    {
      "cell_type": "markdown",
      "metadata": {
        "id": "GR4HarfOKEtx"
      },
      "source": [
        "# **Evaluating the Model:**"
      ]
    },
    {
      "cell_type": "markdown",
      "metadata": {
        "id": "pXhDxygQKXqz"
      },
      "source": [
        "Here, we can make a prediction for each iris in the test data and compare it against its label (the known species).\r\n",
        "We can measure how well the model works by computing the accuracy, which is the fraction of flowers for which the right species was predicted."
      ]
    },
    {
      "cell_type": "code",
      "metadata": {
        "colab": {
          "base_uri": "https://localhost:8080/"
        },
        "id": "sHNQf9eCK-_X",
        "outputId": "f4be6ca0-e59e-447f-b7ec-7ef171bbdf05"
      },
      "source": [
        "y_pred = knn.predict(X_test)\r\n",
        "print(\"Test set predictions: \\n {}\".format(y_pred))"
      ],
      "execution_count": 20,
      "outputs": [
        {
          "output_type": "stream",
          "name": "stdout",
          "text": [
            "Test set predictions: \n [2 1 0 2 0 2 0 1 1 1 2 1 1 1 1 0 1 1 0 0 2 1 0 0 2 0 0 1 1 0 2 1 0 2 2 1 0\n 2]\n"
          ]
        }
      ]
    },
    {
      "cell_type": "code",
      "metadata": {
        "colab": {
          "base_uri": "https://localhost:8080/"
        },
        "id": "58ySibvQLY82",
        "outputId": "a385174a-897a-4ad0-e4ff-d38340247190"
      },
      "source": [
        "print (\"Test set score: {}\".format(np.mean(y_pred == y_test)))"
      ],
      "execution_count": 21,
      "outputs": [
        {
          "output_type": "stream",
          "name": "stdout",
          "text": [
            "Test set score: 0.9736842105263158\n"
          ]
        }
      ]
    }
  ]
}